{
 "cells": [
  {
   "cell_type": "code",
   "execution_count": 14,
   "id": "94c97750",
   "metadata": {},
   "outputs": [],
   "source": [
    "import sys\n",
    "sys.path.append(\"..\")\n",
    "import torch\n",
    "from collections import Counter\n",
    "from src.data.graph import Graph"
   ]
  },
  {
   "cell_type": "markdown",
   "id": "adf4d319",
   "metadata": {},
   "source": [
    "### Load the graph"
   ]
  },
  {
   "cell_type": "code",
   "execution_count": 21,
   "id": "f108ff92",
   "metadata": {},
   "outputs": [],
   "source": [
    "args = {\n",
    "        \"graph\": \"karate\",  # name of the graph\n",
    "        \"basepath\": \"../data\",  # path to the directory that has the graph files\n",
    "        \"task\": \"link_pred\",  # the task\n",
    "        \"test_frac\": 0.20,  #  fraction of the edges to be used as test split\n",
    "        \"val_frac\": 0.20,  #  fraction of the edges to be used as val split\n",
    "        \"gpu\": False  # we don't need a GPU for exploring the graph\n",
    "        } "
   ]
  },
  {
   "cell_type": "code",
   "execution_count": 22,
   "id": "21559e39",
   "metadata": {},
   "outputs": [
    {
     "name": "stderr",
     "output_type": "stream",
     "text": [
      "INFO:root:Loading edges\n"
     ]
    },
    {
     "name": "stdout",
     "output_type": "stream",
     "text": [
      "Loading karate dataset...\n",
      "Found 78 edges\n"
     ]
    }
   ],
   "source": [
    "graph = Graph(**args)"
   ]
  },
  {
   "cell_type": "markdown",
   "id": "d4da2a1f",
   "metadata": {},
   "source": [
    "#### Explore Edges"
   ]
  },
  {
   "cell_type": "code",
   "execution_count": 24,
   "id": "87ed301c-a038-4996-8baa-7ff2ad26eada",
   "metadata": {},
   "outputs": [
    {
     "data": {
      "text/plain": [
       "tensor([[ 0,  0,  0,  0,  0,  0,  0,  0,  0,  0,  0,  0,  0,  0,  0,  0,  0,  1,\n",
       "          1,  1,  1,  1,  1,  1,  1,  1,  1,  2,  2,  2,  2,  2,  2,  2,  2,  2,\n",
       "          2,  2,  3,  3,  3,  3,  3,  3,  3,  4,  4,  4,  4,  5,  5,  5,  5,  5,\n",
       "          6,  6,  6,  6,  6,  7,  7,  7,  7,  7,  8,  8,  8,  8,  8,  8,  9,  9,\n",
       "          9, 10, 10, 10, 10, 11, 11, 12, 12, 12, 13, 13, 13, 13, 13, 13, 14, 14,\n",
       "         14, 15, 15, 15, 16, 16, 16, 17, 17, 17, 18, 18, 18, 19, 19, 19, 19, 20,\n",
       "         20, 20, 21, 21, 21, 22],\n",
       "        [ 0,  1,  2,  3,  4,  5,  6,  7,  8, 10, 11, 12, 13, 17, 19, 21, 31,  0,\n",
       "          1,  2,  3,  7, 13, 17, 19, 21, 30,  0,  1,  2,  3,  7,  8,  9, 13, 27,\n",
       "         28, 32,  0,  1,  2,  3,  7, 12, 13,  0,  4,  6, 10,  0,  5,  6, 10, 16,\n",
       "          0,  4,  5,  6, 16,  0,  1,  2,  3,  7,  0,  2,  8, 30, 32, 33,  2,  9,\n",
       "         33,  0,  4,  5, 10,  0, 11,  0,  3, 12,  0,  1,  2,  3, 13, 33, 14, 32,\n",
       "         33, 15, 32, 33,  5,  6, 16,  0,  1, 17, 18, 32, 33,  0,  1, 19, 33, 20,\n",
       "         32, 33,  0,  1, 21, 22]])"
      ]
     },
     "execution_count": 24,
     "metadata": {},
     "output_type": "execute_result"
    }
   ],
   "source": [
    "graph.train_edges_positive"
   ]
  },
  {
   "cell_type": "code",
   "execution_count": 18,
   "id": "fcfc14ac-0d9d-4233-aba9-d36d382e168e",
   "metadata": {},
   "outputs": [
    {
     "data": {
      "text/plain": [
       "tensor([[   0,    0,    0,  ..., 1632, 1632, 1633],\n",
       "        [   0,   99,  111,  ..., 1801, 2168,  378]])"
      ]
     },
     "execution_count": 18,
     "metadata": {},
     "output_type": "execute_result"
    }
   ],
   "source": [
    "graph.train_edges_positive"
   ]
  },
  {
   "cell_type": "code",
   "execution_count": 19,
   "id": "830547a1",
   "metadata": {},
   "outputs": [
    {
     "data": {
      "text/plain": [
       "torch.Size([14864])"
      ]
     },
     "execution_count": 19,
     "metadata": {},
     "output_type": "execute_result"
    }
   ],
   "source": [
    "graph.train_edge_labels.shape # (num_edges)"
   ]
  },
  {
   "cell_type": "code",
   "execution_count": 20,
   "id": "1c117d14",
   "metadata": {},
   "outputs": [
    {
     "data": {
      "text/plain": [
       "Counter({1: 12384, 0: 12384})"
      ]
     },
     "execution_count": 20,
     "metadata": {},
     "output_type": "execute_result"
    }
   ],
   "source": [
    "Counter(graph.train_edge_labels.tolist() \\\n",
    "        + graph.val_edge_labels.tolist() \\\n",
    "        + graph.test_edge_labels.tolist())  #  total number of positive and negative edges"
   ]
  },
  {
   "cell_type": "code",
   "execution_count": null,
   "id": "e8e3ee64",
   "metadata": {},
   "outputs": [],
   "source": []
  }
 ],
 "metadata": {
  "kernelspec": {
   "display_name": "Python 3 (ipykernel)",
   "language": "python",
   "name": "python3"
  },
  "language_info": {
   "codemirror_mode": {
    "name": "ipython",
    "version": 3
   },
   "file_extension": ".py",
   "mimetype": "text/x-python",
   "name": "python",
   "nbconvert_exporter": "python",
   "pygments_lexer": "ipython3",
   "version": "3.9.7"
  }
 },
 "nbformat": 4,
 "nbformat_minor": 5
}
